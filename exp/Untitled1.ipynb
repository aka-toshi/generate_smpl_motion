{
 "cells": [
  {
   "cell_type": "code",
   "execution_count": 1,
   "metadata": {},
   "outputs": [],
   "source": [
    "%matplotlib notebook\n",
    "from scipy import sparse \n",
    "from scipy.sparse.linalg import lsqr, cg, eigsh\n",
    "import matplotlib.pyplot as plt \n",
    "import argparse\n",
    "from mpl_toolkits.axes_grid1 import make_axes_locatable\n",
    "from mpl_toolkits.mplot3d import Axes3D\n",
    "import cv2\n",
    "import heapq\n",
    "import random\n",
    "import copy\n",
    "import sys\n",
    "from sklearn.cluster import KMeans\n",
    "from sklearn.linear_model import LinearRegression\n",
    "from sklearn.decomposition import PCA\n",
    "import pandas as pd\n",
    "from scipy.spatial import ConvexHull\n",
    "from mpl_toolkits.mplot3d import Axes3D\n",
    "from scipy import genfromtxt\n",
    "from sklearn.cluster import SpectralClustering\n",
    "import matplotlib.patches as mpatches\n",
    "import importlib\n",
    "import time\n",
    "\n",
    "import hks\n",
    "import saiteki as h"
   ]
  },
  {
   "cell_type": "code",
   "execution_count": 2,
   "metadata": {},
   "outputs": [],
   "source": [
    "importlib.reload(hks)\n",
    "importlib.reload(h)\n",
    "from hks import *"
   ]
  },
  {
   "cell_type": "code",
   "execution_count": 5,
   "metadata": {},
   "outputs": [],
   "source": [
    "#骨格の長さを計算する関数\n",
    "def bonelen(trc):\n",
    "    joint = trc[:,1:]\n",
    "    #配列作り\n",
    "    a = np.arange(17)\n",
    "    a[4] = 1\n",
    "    a[7] = 1\n",
    "    a[10] = 1\n",
    "    a[13] = 0\n",
    "    a[14] = 0\n",
    "    a[-2:] -=1\n",
    "    c = np.zeros(17*3,dtype='int32')\n",
    "    c[::3] = a*3\n",
    "    c[1::3] =a*3+1\n",
    "    c[2::3] =a*3+2\n",
    "    jointbox = (joint[:,1*3:]-joint[:,c])**2\n",
    "    jointbox = np.reshape(jointbox,(len(jointbox),17,3))\n",
    "    jointlen = np.sum(jointbox,axis=2)**0.5\n",
    "    return jointlen\n",
    "\n",
    "def jointvar(trc):\n",
    "    joint = trc[:,1:]\n",
    "    jmean = np.mean(joint,axis=0)\n",
    "    jointbox = (joint-jmean)**2\n",
    "    jointbox = np.reshape(jointbox,(len(jointbox),18,3))\n",
    "    jointlen = np.sum(jointbox,axis=2)**0.5\n",
    "    return np.var(jointlen,axis=0)"
   ]
  },
  {
   "cell_type": "code",
   "execution_count": 6,
   "metadata": {},
   "outputs": [
    {
     "name": "stderr",
     "output_type": "stream",
     "text": [
      "/usr/local/lib/python3.7/site-packages/ipykernel_launcher.py:3: FutureWarning: read_table is deprecated, use read_csv instead, passing sep='\\t'.\n",
      "  This is separate from the ipykernel package so we can avoid doing imports until\n"
     ]
    }
   ],
   "source": [
    "lst = [1,2,3,4]\n",
    "for i in lst:\n",
    "    a = pd.read_table('trc/model{}.trc'.format(i),header=4)\n",
    "    b = a.values\n",
    "    trc = b[:,:-1]\n",
    "    length = bonelen(trc)\n",
    "    var = jointvar(trc)\n",
    "    print(var)"
   ]
  },
  {
   "cell_type": "code",
   "execution_count": null,
   "metadata": {},
   "outputs": [],
   "source": []
  }
 ],
 "metadata": {
  "kernelspec": {
   "display_name": "Python 3",
   "language": "python",
   "name": "python3"
  },
  "language_info": {
   "codemirror_mode": {
    "name": "ipython",
    "version": 3
   },
   "file_extension": ".py",
   "mimetype": "text/x-python",
   "name": "python",
   "nbconvert_exporter": "python",
   "pygments_lexer": "ipython3",
   "version": "3.7.4"
  }
 },
 "nbformat": 4,
 "nbformat_minor": 2
}
